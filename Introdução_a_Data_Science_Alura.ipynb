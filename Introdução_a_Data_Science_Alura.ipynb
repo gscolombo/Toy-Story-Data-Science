{
 "cells": [
  {
   "cell_type": "markdown",
   "metadata": {},
   "source": [
    "## Introdução a Data Science - Curso da Alura"
   ]
  },
  {
   "cell_type": "code",
   "execution_count": 1,
   "metadata": {
    "colab": {
     "base_uri": "https://localhost:8080/",
     "height": 296
    },
    "id": "mEVdkMr92b0r",
    "outputId": "481059c6-8c0f-4c88-aa01-12bc375b7294"
   },
   "outputs": [
    {
     "name": "stdout",
     "output_type": "stream",
     "text": [
      "Distribuições de notas de avaliação para 9737 filmes\n"
     ]
    },
    {
     "data": {
      "image/png": "[encoded data removed]",
      "text/plain": [
       "<Figure size 1080x360 with 2 Axes>"
      ]
     },
     "metadata": {
      "needs_background": "light"
     },
     "output_type": "display_data"
    }
   ],
   "source": [
    "import pandas as pd\n",
    "import seaborn as sns\n",
    "import matplotlib.pyplot as plt\n",
    "\n",
    "sns.set_style(\"whitegrid\")\n",
    "\n",
    "ratings = pd.read_csv(\"data/ratings.csv\")\n",
    "movies = pd.read_csv(\"data/movies.csv\")\n",
    "\n",
    "movieTitles= movies.title.unique()\n",
    "numberOfMovies = len(movieTitles)\n",
    "\n",
    "fig, axes = plt.subplots(nrows=1, ncols=2, figsize=(15,5))\n",
    "\n",
    "ax = sns.histplot(data=ratings, x='rating', bins=10, ax=axes[0])\n",
    "ax.set(xlabel=\"Nota\", ylabel=\"Nº de avaliações\")\n",
    "sns.boxplot(x=ratings['rating'], ax=axes[1]).set_xlabel(\"Nota\")\n",
    "\n",
    "print(f\"Distribuições de notas de avaliação para {numberOfMovies} filmes\")"
   ]
  },
  {
   "cell_type": "markdown",
   "metadata": {
    "colab": {
     "base_uri": "https://localhost:8080/"
    },
    "id": "_53vutZ_8NJM",
    "outputId": "f16cbf56-30ab-46a0-a883-092353465807"
   },
   "source": [
    "### Entre esses filmes, encontra-se os 3 primeiros filmes da franquia Toy Story. A presente análise será focada nessa trilogia para comparar e discutir a avaliação dos 3 filmes."
   ]
  },
  {
   "cell_type": "code",
   "execution_count": 2,
   "metadata": {
    "colab": {
     "base_uri": "https://localhost:8080/"
    },
    "id": "7P8835ZB-jOj",
    "outputId": "e32d2b8e-6170-4c42-9e46-9ff776252552"
   },
   "outputs": [
    {
     "data": {
      "text/plain": [
       "Text(0.5, 0, '')"
      ]
     },
     "execution_count": 2,
     "metadata": {},
     "output_type": "execute_result"
    },
    {
     "data": {
      "image/png": "[encoded data removed]",
      "text/plain": [
       "<Figure size 432x288 with 1 Axes>"
      ]
     },
     "metadata": {
      "needs_background": "light"
     },
     "output_type": "display_data"
    }
   ],
   "source": [
    "toyStoryRatings = []\n",
    "for title in movieTitles:\n",
    "  if 'Toy Story' in title:\n",
    "    id = movies.query(f'title == \"{title}\"').movieId.unique()[0]\n",
    "    series = ratings.query(f'movieId == {id}')\n",
    "    series.insert(0, \"title\", title)\n",
    "    toyStoryRatings.append(series)\n",
    "  \n",
    "\n",
    "toyStoryRatings = pd.concat(toyStoryRatings)\n",
    "toyStoryRatingsGroupBy = toyStoryRatings.groupby(\"title\").mean().rating\n",
    "\n",
    "toyStoryWatchers = toyStoryRatings.groupby(\"title\").userId.unique()               \n",
    "\n",
    "for i in range(len(toyStoryWatchers)):\n",
    "    toyStoryWatchers[i] = len(toyStoryWatchers[i])\n",
    "\n",
    "toyStoryWatchers = toyStoryWatchers.to_frame().reset_index()\n",
    "toyStoryWatchers.columns = [\"Título\", \"Nº de avaliadores\"]\n",
    "\n",
    "ax = sns.barplot(x=\"Título\", y=\"Nº de avaliadores\", data=toyStoryWatchers, orient=\"v\")\n",
    "ax.set_xlabel(\"\")\n"
   ]
  },
  {
   "cell_type": "markdown",
   "metadata": {
    "id": "T0lvUo6p91wT"
   },
   "source": [
    "### Devido a diferença de quantidade de avaliadores para cada filme, uma comparação  válida pode ser feita selecionando somente os usuários que avaliaram os 3 filmes."
   ]
  },
  {
   "cell_type": "code",
   "execution_count": 3,
   "metadata": {},
   "outputs": [
    {
     "data": {
      "text/html": [
       "<div>\n",
       "<style scoped>\n",
       "    .dataframe tbody tr th:only-of-type {\n",
       "        vertical-align: middle;\n",
       "    }\n",
       "\n",
       "    .dataframe tbody tr th {\n",
       "        vertical-align: top;\n",
       "    }\n",
       "\n",
       "    .dataframe thead th {\n",
       "        text-align: right;\n",
       "    }\n",
       "</style>\n",
       "<table border=\"1\" class=\"dataframe\">\n",
       "  <thead>\n",
       "    <tr style=\"text-align: right;\">\n",
       "      <th></th>\n",
       "      <th>title</th>\n",
       "      <th>userId</th>\n",
       "      <th>movieId</th>\n",
       "      <th>rating</th>\n",
       "      <th>timestamp</th>\n",
       "    </tr>\n",
       "  </thead>\n",
       "  <tbody>\n",
       "    <tr>\n",
       "      <th>3219</th>\n",
       "      <td>Toy Story (1995)</td>\n",
       "      <td>21</td>\n",
       "      <td>1</td>\n",
       "      <td>3.5</td>\n",
       "      <td>1407618878</td>\n",
       "    </tr>\n",
       "    <tr>\n",
       "      <th>7112</th>\n",
       "      <td>Toy Story (1995)</td>\n",
       "      <td>50</td>\n",
       "      <td>1</td>\n",
       "      <td>3.0</td>\n",
       "      <td>1514238116</td>\n",
       "    </tr>\n",
       "    <tr>\n",
       "      <th>10360</th>\n",
       "      <td>Toy Story (1995)</td>\n",
       "      <td>68</td>\n",
       "      <td>1</td>\n",
       "      <td>2.5</td>\n",
       "      <td>1158531426</td>\n",
       "    </tr>\n",
       "    <tr>\n",
       "      <th>21691</th>\n",
       "      <td>Toy Story (1995)</td>\n",
       "      <td>141</td>\n",
       "      <td>1</td>\n",
       "      <td>4.0</td>\n",
       "      <td>1513130643</td>\n",
       "    </tr>\n",
       "    <tr>\n",
       "      <th>23129</th>\n",
       "      <td>Toy Story (1995)</td>\n",
       "      <td>159</td>\n",
       "      <td>1</td>\n",
       "      <td>4.5</td>\n",
       "      <td>1508640172</td>\n",
       "    </tr>\n",
       "    <tr>\n",
       "      <th>...</th>\n",
       "      <td>...</td>\n",
       "      <td>...</td>\n",
       "      <td>...</td>\n",
       "      <td>...</td>\n",
       "      <td>...</td>\n",
       "    </tr>\n",
       "    <tr>\n",
       "      <th>87942</th>\n",
       "      <td>Toy Story 3 (2010)</td>\n",
       "      <td>567</td>\n",
       "      <td>78499</td>\n",
       "      <td>2.0</td>\n",
       "      <td>1525288289</td>\n",
       "    </tr>\n",
       "    <tr>\n",
       "      <th>88949</th>\n",
       "      <td>Toy Story 3 (2010)</td>\n",
       "      <td>573</td>\n",
       "      <td>78499</td>\n",
       "      <td>5.0</td>\n",
       "      <td>1299222433</td>\n",
       "    </tr>\n",
       "    <tr>\n",
       "      <th>92035</th>\n",
       "      <td>Toy Story 3 (2010)</td>\n",
       "      <td>596</td>\n",
       "      <td>78499</td>\n",
       "      <td>3.5</td>\n",
       "      <td>1535708446</td>\n",
       "    </tr>\n",
       "    <tr>\n",
       "      <th>95935</th>\n",
       "      <td>Toy Story 3 (2010)</td>\n",
       "      <td>601</td>\n",
       "      <td>78499</td>\n",
       "      <td>4.0</td>\n",
       "      <td>1521397837</td>\n",
       "    </tr>\n",
       "    <tr>\n",
       "      <th>100447</th>\n",
       "      <td>Toy Story 3 (2010)</td>\n",
       "      <td>610</td>\n",
       "      <td>78499</td>\n",
       "      <td>5.0</td>\n",
       "      <td>1493846463</td>\n",
       "    </tr>\n",
       "  </tbody>\n",
       "</table>\n",
       "<p>90 rows × 5 columns</p>\n",
       "</div>"
      ],
      "text/plain": [
       "                     title  userId  movieId  rating   timestamp\n",
       "3219      Toy Story (1995)      21        1     3.5  1407618878\n",
       "7112      Toy Story (1995)      50        1     3.0  1514238116\n",
       "10360     Toy Story (1995)      68        1     2.5  1158531426\n",
       "21691     Toy Story (1995)     141        1     4.0  1513130643\n",
       "23129     Toy Story (1995)     159        1     4.5  1508640172\n",
       "...                    ...     ...      ...     ...         ...\n",
       "87942   Toy Story 3 (2010)     567    78499     2.0  1525288289\n",
       "88949   Toy Story 3 (2010)     573    78499     5.0  1299222433\n",
       "92035   Toy Story 3 (2010)     596    78499     3.5  1535708446\n",
       "95935   Toy Story 3 (2010)     601    78499     4.0  1521397837\n",
       "100447  Toy Story 3 (2010)     610    78499     5.0  1493846463\n",
       "\n",
       "[90 rows x 5 columns]"
      ]
     },
     "execution_count": 3,
     "metadata": {},
     "output_type": "execute_result"
    }
   ],
   "source": [
    "watchers = toyStoryRatings.groupby(\"title\").userId.unique()\n",
    "\n",
    "#Criação de conjuntos de avaliadores para cada filme\n",
    "set1 = set(watchers[0])\n",
    "set2 = set(watchers[1])\n",
    "set3 = set(watchers[2])\n",
    "\n",
    "'''\n",
    "Interseção dos conjuntos para selecionar somente \n",
    "os avaliadores simultâneos dos 3 filmes\n",
    "'''\n",
    "users = list(set1.intersection(set2).intersection(set3))\n",
    "\n",
    "toyStoryValidRatings = toyStoryRatings.query(f\"userId in {users}\")\n",
    "toyStoryValidRatings"
   ]
  },
  {
   "cell_type": "code",
   "execution_count": 4,
   "metadata": {},
   "outputs": [
    {
     "data": {
      "text/plain": [
       "Text(0.5, 0, 'Título')"
      ]
     },
     "execution_count": 4,
     "metadata": {},
     "output_type": "execute_result"
    },
    {
     "data": {
      "image/png": "[encoded data removed]",
      "text/plain": [
       "<Figure size 432x288 with 1 Axes>"
      ]
     },
     "metadata": {
      "needs_background": "light"
     },
     "output_type": "display_data"
    }
   ],
   "source": [
    "movie1Ratings = toyStoryValidRatings.query(\"title == 'Toy Story (1995)'\").rating\n",
    "movie2Ratings = toyStoryValidRatings.query(\"title == 'Toy Story 2 (1999)'\").rating\n",
    "movie3Ratings = toyStoryValidRatings.query(\"title == 'Toy Story 3 (2010)'\").rating\n",
    "\n",
    "ax = sns.boxplot(data=toyStoryValidRatings, y=\"rating\", x=\"title\")\n",
    "ax.set_ylabel(\"Nota\")\n",
    "ax.set_xlabel(\"Título\")"
   ]
  },
  {
   "cell_type": "markdown",
   "metadata": {},
   "source": [
    "#### Apesar de mostrar diferenças na avaliação de cada filme, o boxplot não é uma boa opção nesse caso. Uma vez que o número de avaliações foi reduzido para 30, juntamente com a menor quantidade de possíveis valores de avaliações, alguns quartis equivaleram-se com outros, como pode ser observado para os boxplots do segundo e terceiro filme. Somente o primeiro filme apresentou um gráfico satisfatório, com cada quartil devidamente separado. Ainda assim, pode se observar que o primeiro e último filmes foram os mais bem avaliados, visto que suas avaliações concentram-se em valores maiores."
   ]
  },
  {
   "cell_type": "code",
   "execution_count": 5,
   "metadata": {},
   "outputs": [
    {
     "data": {
      "image/png": "[encoded data removed]",
      "text/plain": [
       "<Figure size 1080x360 with 2 Axes>"
      ]
     },
     "metadata": {
      "needs_background": "light"
     },
     "output_type": "display_data"
    }
   ],
   "source": [
    "fig, axes = plt.subplots(nrows=1, ncols=2, figsize=(15,5))\n",
    "\n",
    "ax1 = sns.histplot(toyStoryValidRatings, \n",
    "                  x=\"rating\", \n",
    "                  hue=\"title\", \n",
    "                  multiple=\"dodge\", \n",
    "                  element=\"step\",\n",
    "                  ax=axes[0])\n",
    "\n",
    "ax2 = sns.kdeplot(data=toyStoryValidRatings, \n",
    "                  x=\"rating\", \n",
    "                  hue=\"title\",\n",
    "                  clip=(0,5),\n",
    "                  fill=True,\n",
    "                  ax=axes[1])\n",
    "\n",
    "for ax in axes:\n",
    "    ax.set_ylabel(\"Nº de avaliações\")\n",
    "    ax.set_xlabel(\"Nota\")\n",
    "    sns.move_legend(ax, \"lower center\",\n",
    "                bbox_to_anchor=(.5, 1), \n",
    "                ncol=3, \n",
    "                title=None, \n",
    "                frameon=False)\n",
    "\n",
    "ax2.set_ylabel(\"Densidade\")\n",
    "sns.despine()"
   ]
  },
  {
   "cell_type": "markdown",
   "metadata": {},
   "source": [
    "### Pode-se concluir que o filme mais bem-avaliado da franquia Toy Story foi o Toy Story 3, lançado em 2010. Tanto pelo histograma quanto pela estimativa de densidade kernel, para 30 avaliações de usuários que assistiram aos 3 filmes, a distribuição obtida indica uma maior probabilidade de avaliações 4 - 5 para essa sequência da franquia, seguido pelo primeiro filme, lançado em 1995. Por último, encontra-se o segundo filme da franquia, lançado em 1999. \n",
    "##### Sabe-se que, em geral, o lançamento de uma continuação de um filme de sucesso costuma ser uma tarefa arriscada e com menos sucesso que o filme anterior, o que pode ser constatado pela comparação das distribuições do primeiro e segundo filmes da franquia. Poderia-se atribuir o grande sucesso do último filme a nostalgia de grande parte dos espectadores (eu incluso) sobre a franquia, em especial o primeiro filme, que fez parte da infância de muitos jovens adultos no momento em que o terceiro filme foi lançado. Crianças de 5 a 10 anos que assistiram o primeiro filme, seja no cinema ou alguns anos após o lançamento, teriam, por exemplo, entre 16 e 25 anos de idade e, considerando o tema do filme, no qual o Andy vai pra faculdade e precisar abandonar os brinquedos, pode-se argumentar que o público-alvo real do filme encontra-se nessa faixa etária, assim como acontece com outros filmes da Pixar (e.g. Os Incríveis)."
   ]
  },
  {
   "cell_type": "markdown",
   "metadata": {},
   "source": [
    "\n",
    "\n",
    "### Ambiente de desenvolvimento:"
   ]
  },
  {
   "cell_type": "code",
   "execution_count": 6,
   "metadata": {},
   "outputs": [
    {
     "name": "stdout",
     "output_type": "stream",
     "text": [
      "Package              Version\n",
      "-------------------- -----------\n",
      "argon2-cffi          21.3.0\n",
      "argon2-cffi-bindings 21.2.0\n",
      "asttokens            2.0.5\n",
      "attrs                21.4.0\n",
      "backcall             0.2.0\n",
      "beautifulsoup4       4.11.1\n",
      "bleach               5.0.1\n",
      "certifi              2021.10.8\n",
      "cffi                 1.15.1\n",
      "charset-normalizer   2.0.12\n",
      "colorama             0.4.5\n",
      "cycler               0.11.0\n",
      "debugpy              1.6.2\n",
      "decorator            5.1.1\n",
      "defusedxml           0.7.1\n",
      "entrypoints          0.4\n",
      "executing            0.8.3\n",
      "fastjsonschema       2.16.1\n",
      "fonttools            4.34.4\n",
      "idna                 3.3\n",
      "ipykernel            6.15.1\n",
      "ipython              8.4.0\n",
      "ipython-genutils     0.2.0\n",
      "ipywidgets           7.7.1\n",
      "jedi                 0.18.1\n",
      "Jinja2               3.1.2\n",
      "jsonschema           4.7.2\n",
      "jupyter              1.0.0\n",
      "jupyter-client       7.3.4\n",
      "jupyter-console      6.4.4\n",
      "jupyter-core         4.11.1\n",
      "jupyterlab-pygments  0.2.2\n",
      "jupyterlab-widgets   1.1.1\n",
      "kiwisolver           1.4.4\n",
      "MarkupSafe           2.1.1\n",
      "matplotlib           3.5.2\n",
      "matplotlib-inline    0.1.3\n",
      "mistune              0.8.4\n",
      "nbclient             0.6.6\n",
      "nbconvert            6.5.0\n",
      "nbformat             5.4.0\n",
      "nest-asyncio         1.5.5\n",
      "notebook             6.4.12\n",
      "numpy                1.23.1\n",
      "packaging            21.3\n",
      "pandas               1.4.3\n",
      "pandocfilters        1.5.0\n",
      "parso                0.8.3\n",
      "pickleshare          0.7.5\n",
      "Pillow               9.2.0\n",
      "pip                  22.1.2\n",
      "prometheus-client    0.14.1\n",
      "prompt-toolkit       3.0.30\n",
      "psutil               5.9.1\n",
      "pure-eval            0.2.2\n",
      "pycparser            2.21\n",
      "Pygments             2.12.0\n",
      "pyparsing            3.0.9\n",
      "pyrsistent           0.18.1\n",
      "python-dateutil      2.8.2\n",
      "pytz                 2022.1\n",
      "pywin32              304\n",
      "pywinpty             2.0.6\n",
      "pyzmq                23.2.0\n",
      "qtconsole            5.3.1\n",
      "QtPy                 2.1.0\n",
      "requests             2.27.1\n",
      "scipy                1.8.1\n",
      "seaborn              0.11.2\n",
      "Send2Trash           1.8.0\n",
      "six                  1.16.0\n",
      "soupsieve            2.3.2.post1\n",
      "stack-data           0.3.0\n",
      "terminado            0.15.0\n",
      "tinycss2             1.1.1\n",
      "tornado              6.2\n",
      "traitlets            5.3.0\n",
      "urllib3              1.26.9\n",
      "wcwidth              0.2.5\n",
      "webencodings         0.5.1\n",
      "widgetsnbextension   3.6.1\n",
      "\n",
      "[notice] A new release of pip available: 22.1.2 -> 22.2\n",
      "[notice] To update, run: C:\\Users\\bielf\\AppData\\Local\\Microsoft\\WindowsApps\\PythonSoftwareFoundation.Python.3.10_qbz5n2kfra8p0\\python.exe -m pip install --upgrade pip\n"
     ]
    }
   ],
   "source": [
    "import os\n",
    "\n",
    "stream = os.popen(\"pip list\")\n",
    "output = stream.readlines()\n",
    "\n",
    "for line in output:\n",
    "    print(line.strip())"
   ]
  }
 ],
 "metadata": {
  "colab": {
   "collapsed_sections": [],
   "name": "Introdução a Data Science - Alura.ipynb",
   "provenance": []
  },
  "kernelspec": {
   "display_name": "Python 3 (ipykernel)",
   "language": "python",
   "name": "python3"
  },
  "language_info": {
   "codemirror_mode": {
    "name": "ipython",
    "version": 3
   },
   "file_extension": ".py",
   "mimetype": "text/x-python",
   "name": "python",
   "nbconvert_exporter": "python",
   "pygments_lexer": "ipython3",
   "version": "3.10.5"
  }
 },
 "nbformat": 4,
 "nbformat_minor": 1
}
